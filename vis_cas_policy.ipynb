{
 "cells": [
  {
   "cell_type": "code",
   "execution_count": 1,
   "metadata": {},
   "outputs": [],
   "source": [
    "import sys\n",
    "sys.path.append('./rllab')\n",
    "sys.path.append('./rltools')\n",
    "\n",
    "# from __future__ import print_function\n",
    "# from ipywidgets import interact, interactive, fixed, interact_manual\n",
    "# import ipywidgets as widgets\n",
    "\n",
    "from madrl_environments.cas.multi_aircraft import *\n",
    "\n",
    "import matplotlib.pyplot as plt\n",
    "\n",
    "import joblib\n",
    "import tensorflow as tf\n",
    "import numpy as np"
   ]
  },
  {
   "cell_type": "code",
   "execution_count": 2,
   "metadata": {},
   "outputs": [],
   "source": [
    "import math"
   ]
  },
  {
   "cell_type": "code",
   "execution_count": 3,
   "metadata": {},
   "outputs": [],
   "source": [
    "XMIN = -1200\n",
    "XMAX = 1200\n",
    "YMIN = XMIN\n",
    "YMAX = XMAX"
   ]
  },
  {
   "cell_type": "code",
   "execution_count": 4,
   "metadata": {
    "scrolled": true
   },
   "outputs": [],
   "source": [
    "def vis_slice(env,\n",
    "              policy,\n",
    "              resolution=100,\n",
    "              own_v=20, \n",
    "              own_heading=0,\n",
    "              own_turn_rate=0,\n",
    "              own_dest_x=4000,\n",
    "              own_dest_y=0,\n",
    "              int_heading=np.deg2rad(180), \n",
    "              int_v=15):\n",
    "    \n",
    "    # ownship setup\n",
    "    env.aircraft[0].x = 0\n",
    "    env.aircraft[0].y = 0\n",
    "    env.aircraft[0].dest_x = own_dest_x\n",
    "    env.aircraft[0].dest_y = own_dest_y\n",
    "    env.aircraft[0].heading = own_heading\n",
    "    env.aircraft[0].dist_to_dest = np.sqrt((env.aircraft[0].dest_y)**2 + (env.aircraft[0].dest_x)**2)\n",
    "    env.aircraft[0].init_dist_to_dest = env.aircraft[0].dist_to_dest * 2\n",
    "    env.aircraft[0].prev_dist_to_dest = env.aircraft[0].dist_to_dest + own_v\n",
    "    env.aircraft[0].v = own_v\n",
    "    env.aircraft[0].turn_rate = own_turn_rate\n",
    "    \n",
    "    def get_heat(x, y):\n",
    "        # intruder setup\n",
    "        env.aircraft[1].x = x\n",
    "        env.aircraft[1].y = y\n",
    "        intruder_pos_angle = math.atan2(y - env.aircraft[0].y, x - env.aircraft[0].x)\n",
    "        env.aircraft[1].heading = int_heading\n",
    "        env.aircraft[1].v = int_v\n",
    "        # ownship:\n",
    "        # print('int_x = {}, int_y = {}, intruder_pos_angle = {}'.format(x, y, norm_angle(intruder_pos_angle - env.aircraft[0].heading) / pi))\n",
    "        obs = env.aircraft[0].get_observation()\n",
    "        action, action_info = policy.get_action(obs)\n",
    "        return action, action_info\n",
    "\n",
    "    acc_map = np.zeros((resolution, resolution))\n",
    "    turn_rate_map = np.zeros((resolution, resolution))\n",
    "    x_arr = np.linspace(XMIN, XMAX, resolution)\n",
    "    y_arr = np.linspace(YMIN, YMAX, resolution)\n",
    "\n",
    "    # print(get_heat(400, 400))\n",
    "\n",
    "    for j in range(resolution):\n",
    "        for i in range(resolution):\n",
    "            actions = get_heat(x_arr[i], y_arr[j])[1]['mean']\n",
    "            acc_map[j][i] = actions[ACTION_IND_ACC]\n",
    "            turn_rate_map[j][i] = actions[ACTION_IND_TURN]\n",
    "#             print('acc = {}, tr = {}'.format(acc_map[j][i], turn_rate_map[j][i]))\n",
    "\n",
    "    acc_map = np.flipud(acc_map)\n",
    "    turn_rate_map = np.flipud(turn_rate_map)\n",
    "\n",
    "    plt.figure()\n",
    "    plt.imshow(acc_map, cmap=\"jet\", extent=(XMIN, XMAX, YMIN, YMAX))\n",
    "    plt.colorbar(label='acc')\n",
    "    plt.figure()\n",
    "    plt.imshow(turn_rate_map, cmap=\"jet\", extent=(XMIN, XMAX, YMIN, YMAX))\n",
    "    plt.colorbar(label='turn_rate')\n",
    "    plt.ion()\n"
   ]
  },
  {
   "cell_type": "code",
   "execution_count": 6,
   "metadata": {},
   "outputs": [
    {
     "data": {
      "image/png": "[encoded data removed]",
      "text/plain": [
       "<Figure size 432x288 with 2 Axes>"
      ]
     },
     "metadata": {
      "needs_background": "light"
     },
     "output_type": "display_data"
    },
    {
     "data": {
      "image/png": "[encoded data removed]",
      "text/plain": [
       "<Figure size 432x288 with 2 Axes>"
      ]
     },
     "metadata": {
      "needs_background": "light"
     },
     "output_type": "display_data"
    }
   ],
   "source": [
    "data_file_path = './rllab/data/test/itr_299.pkl'\n",
    "tf.reset_default_graph()\n",
    "with tf.Session() as sess:\n",
    "    data = joblib.load(data_file_path)\n",
    "    policy = data['policy']\n",
    "    \n",
    "    env = MultiAircraftEnv()\n",
    "    env.reset()\n",
    "    env.aircraft = []\n",
    "    env.aircraft.append(Aircraft(env))\n",
    "    env.aircraft.append(Aircraft(env))\n",
    "    env.speed_noise = 1e-12\n",
    "    env.angle_noise = 1e-12\n",
    "    env.position_noise = 1e-12\n",
    "    \n",
    "    vis_slice(env, policy, \n",
    "              resolution=100,\n",
    "              own_v=40, \n",
    "              own_heading=0,\n",
    "              own_turn_rate=0,\n",
    "              own_dest_x=5000,\n",
    "              own_dest_y=0,\n",
    "              int_heading=np.deg2rad(90), \n",
    "              int_v=40)"
   ]
  },
  {
   "cell_type": "code",
   "execution_count": null,
   "metadata": {},
   "outputs": [],
   "source": []
  }
 ],
 "metadata": {
  "kernelspec": {
   "display_name": "rllab3",
   "language": "python",
   "name": "rllab3"
  },
  "language_info": {
   "codemirror_mode": {
    "name": "ipython",
    "version": 3
   },
   "file_extension": ".py",
   "mimetype": "text/x-python",
   "name": "python",
   "nbconvert_exporter": "python",
   "pygments_lexer": "ipython3",
   "version": "3.5.2"
  }
 },
 "nbformat": 4,
 "nbformat_minor": 2
}
