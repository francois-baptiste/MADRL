{
 "cells": [
  {
   "cell_type": "code",
   "execution_count": 1,
   "metadata": {},
   "outputs": [],
   "source": [
    "import sys\n",
    "sys.path.append('./rllab')\n",
    "sys.path.append('./rltools')\n",
    "\n",
    "# from __future__ import print_function\n",
    "# from ipywidgets import interact, interactive, fixed, interact_manual\n",
    "# import ipywidgets as widgets\n",
    "\n",
    "from madrl_environments.cas.multi_aircraft import *\n",
    "from matplotlib import rcParams\n",
    "import matplotlib.pyplot as plt\n",
    "\n",
    "import joblib\n",
    "import tensorflow as tf\n",
    "import numpy as np"
   ]
  },
  {
   "cell_type": "code",
   "execution_count": 2,
   "metadata": {},
   "outputs": [],
   "source": [
    "import math"
   ]
  },
  {
   "cell_type": "code",
   "execution_count": 3,
   "metadata": {},
   "outputs": [],
   "source": [
    "XMIN = -1200\n",
    "XMAX = 1200\n",
    "YMIN = XMIN\n",
    "YMAX = XMAX"
   ]
  },
  {
   "cell_type": "code",
   "execution_count": 105,
   "metadata": {
    "scrolled": true
   },
   "outputs": [],
   "source": [
    "def vis_slice(env,\n",
    "              policy,\n",
    "              clip=False,\n",
    "              figsize=4,\n",
    "              colorbar_label=True,\n",
    "              ylabel=True,\n",
    "              save=False,\n",
    "              resolution=100,\n",
    "              own_v=20, \n",
    "              own_heading=0,\n",
    "              own_turn_rate=0,\n",
    "              own_dest_x=4000,\n",
    "              own_dest_y=0,\n",
    "              int_heading=180, \n",
    "              int_v=15):\n",
    "    \n",
    "    rcParams[\"figure.figsize\"] = [figsize, figsize]\n",
    "    # ownship setup\n",
    "    env.aircraft[0].x = 0\n",
    "    env.aircraft[0].y = 0\n",
    "    env.aircraft[0].dest_x = own_dest_x\n",
    "    env.aircraft[0].dest_y = own_dest_y\n",
    "    env.aircraft[0].heading = np.deg2rad(own_heading)\n",
    "    env.aircraft[0].dist_to_dest = np.sqrt((env.aircraft[0].dest_y)**2 + (env.aircraft[0].dest_x)**2)\n",
    "    env.aircraft[0].init_dist_to_dest = env.aircraft[0].dist_to_dest * 2\n",
    "    env.aircraft[0].prev_dist_to_dest = env.aircraft[0].dist_to_dest + own_v\n",
    "    env.aircraft[0].v = own_v\n",
    "    env.aircraft[0].turn_rate = own_turn_rate\n",
    "    \n",
    "    def get_heat(x, y):\n",
    "        # intruder setup\n",
    "        env.aircraft[1].x = x\n",
    "        env.aircraft[1].y = y\n",
    "        intruder_pos_angle = math.atan2(y - env.aircraft[0].y, x - env.aircraft[0].x)\n",
    "        env.aircraft[1].heading = np.deg2rad(int_heading)\n",
    "        env.aircraft[1].v = int_v\n",
    "        # ownship:\n",
    "        obs = env.aircraft[0].get_observation()\n",
    "        action, action_info = policy.get_action(obs)\n",
    "        return action, action_info\n",
    "\n",
    "    acc_map = np.zeros((resolution, resolution))\n",
    "    turn_rate_map = np.zeros((resolution, resolution))\n",
    "    x_arr = np.linspace(XMIN, XMAX, resolution)\n",
    "    y_arr = np.linspace(YMIN, YMAX, resolution)\n",
    "\n",
    "\n",
    "    for j in range(resolution):\n",
    "        for i in range(resolution):\n",
    "            actions = get_heat(x_arr[i], y_arr[j])[1]['mean']\n",
    "            if clip:\n",
    "                acc_map[j][i] = np.clip(actions[ACTION_IND_ACC], -1, 1) * MAX_ACC\n",
    "                turn_rate_map[j][i] = np.clip(actions[ACTION_IND_TURN], -1, 1) * np.rad2deg(MAX_TURN_RATE)\n",
    "            else:\n",
    "                acc_map[j][i] = actions[ACTION_IND_ACC] * MAX_ACC\n",
    "                turn_rate_map[j][i] = actions[ACTION_IND_TURN] * np.rad2deg(MAX_TURN_RATE)\n",
    "\n",
    "    acc_map = np.flipud(acc_map)\n",
    "    turn_rate_map = np.flipud(turn_rate_map)\n",
    "\n",
    "    plt.figure()\n",
    "    if clip:\n",
    "        plt.title('Clipped Acceleration')\n",
    "    else:\n",
    "        plt.title('Non-clipped Acceleration')\n",
    "    plt.xlabel('x (m)')\n",
    "    if ylabel:\n",
    "        plt.ylabel('y (m)')\n",
    "    else:\n",
    "        plt.gca().axes.get_yaxis().set_ticks([])\n",
    "    plt.xlim(XMIN, XMAX) \n",
    "    plt.ylim(YMIN, YMAX) \n",
    "    plt.imshow(acc_map, cmap=\"jet\", extent=(XMIN, XMAX, YMIN, YMAX))\n",
    "    if colorbar_label:\n",
    "        plt.colorbar(label='Acceleration (m/sec^2)')\n",
    "    else:\n",
    "        plt.colorbar()\n",
    "    plt.plot([0, own_dest_x], [0, own_dest_y], color='white', linestyle=\"--\")\n",
    "    plt.arrow(0, 0,\n",
    "              np.cos(np.deg2rad(own_heading)),\n",
    "              np.sin(np.deg2rad(own_heading)),\n",
    "              width=60,\n",
    "              facecolor=\"green\")\n",
    "    plt.arrow(0.76 * XMAX, 0.76 * YMAX,\n",
    "              np.cos(np.deg2rad(int_heading)),\n",
    "              np.sin(np.deg2rad(int_heading)),\n",
    "              width=60,\n",
    "              facecolor=\"white\")\n",
    "    if save:\n",
    "        if clip:\n",
    "            plt.savefig('clipped_action_map_acc.pdf', bbox_inches='tight', pad_inches=0)\n",
    "        else:\n",
    "            plt.savefig('non_clipped_action_map_acc.pdf', bbox_inches='tight', pad_inches=0)\n",
    "    \n",
    "    plt.figure()\n",
    "    if clip:\n",
    "        plt.title('Clipped Turn Rate')\n",
    "    else:\n",
    "        plt.title('Non-clipped Turn Rate')\n",
    "    plt.xlabel('x (m)')\n",
    "    if ylabel:\n",
    "        plt.ylabel('y (m)')\n",
    "    else:\n",
    "        plt.gca().axes.get_yaxis().set_ticks([])\n",
    "    plt.xlim(XMIN, XMAX) \n",
    "    plt.ylim(YMIN, YMAX) \n",
    "    plt.imshow(turn_rate_map, cmap=\"jet\", extent=(XMIN, XMAX, YMIN, YMAX))\n",
    "    if colorbar_label:\n",
    "        plt.colorbar(label='Turn Rate (deg/sec)')\n",
    "    else:\n",
    "        plt.colorbar()\n",
    "    plt.plot([0, own_dest_x], [0, own_dest_y], color='white', linestyle=\"--\")\n",
    "    plt.arrow(0, 0,\n",
    "              np.cos(np.deg2rad(own_heading)),\n",
    "              np.sin(np.deg2rad(own_heading)),\n",
    "              width=60,\n",
    "              facecolor=\"green\")\n",
    "    plt.arrow(0.76 * XMAX, 0.76 * YMAX,\n",
    "              np.cos(np.deg2rad(int_heading)),\n",
    "              np.sin(np.deg2rad(int_heading)),\n",
    "              width=60,\n",
    "              facecolor=\"white\")\n",
    "    plt.ion()\n",
    "    if save:\n",
    "        if clip:\n",
    "            plt.savefig('clipped_action_map_turnrate.pdf', bbox_inches='tight', pad_inches=0)\n",
    "        else:\n",
    "            plt.savefig('non_clipped_action_map_turnrate.pdf', bbox_inches='tight', pad_inches=0)\n"
   ]
  },
  {
   "cell_type": "code",
   "execution_count": 111,
   "metadata": {},
   "outputs": [
    {
     "data": {
      "image/png": "[encoded data removed]",
      "text/plain": [
       "<Figure size 216x216 with 2 Axes>"
      ]
     },
     "metadata": {
      "needs_background": "light"
     },
     "output_type": "display_data"
    },
    {
     "data": {
      "image/png": "[encoded data removed]",
      "text/plain": [
       "<Figure size 216x216 with 2 Axes>"
      ]
     },
     "metadata": {
      "needs_background": "light"
     },
     "output_type": "display_data"
    }
   ],
   "source": [
    "data_file_path = './rllab/data/trpo_20_agent_direct_ALL_ENV_Tmax_300_PEN_HEAVY_True_rew_nmac_-150_rew_arr_2/itr_2064_direct_real_good.pkl'\n",
    "tf.reset_default_graph()\n",
    "with tf.Session() as sess:\n",
    "    data = joblib.load(data_file_path)\n",
    "    policy = data['policy']\n",
    "    \n",
    "    env = MultiAircraftEnv()\n",
    "    env.reset()\n",
    "    env.aircraft = []\n",
    "    env.aircraft.append(Aircraft(env))\n",
    "    env.aircraft.append(Aircraft(env))\n",
    "    \n",
    "    vis_slice(env, policy, \n",
    "              clip=False,\n",
    "              resolution=150,\n",
    "              own_v=30, \n",
    "              own_heading=-40,\n",
    "              own_turn_rate=0,\n",
    "              own_dest_x=2000,\n",
    "              own_dest_y=0,\n",
    "              int_heading=-130, \n",
    "              int_v=30,\n",
    "              colorbar_label=False,\n",
    "              ylabel=True,\n",
    "              figsize=3,\n",
    "              save=True)\n",
    "    \n"
   ]
  },
  {
   "cell_type": "code",
   "execution_count": null,
   "metadata": {},
   "outputs": [],
   "source": []
  }
 ],
 "metadata": {
  "kernelspec": {
   "display_name": "rllab3",
   "language": "python",
   "name": "rllab3"
  },
  "language_info": {
   "codemirror_mode": {
    "name": "ipython",
    "version": 3
   },
   "file_extension": ".py",
   "mimetype": "text/x-python",
   "name": "python",
   "nbconvert_exporter": "python",
   "pygments_lexer": "ipython3",
   "version": "3.5.2"
  }
 },
 "nbformat": 4,
 "nbformat_minor": 2
}
